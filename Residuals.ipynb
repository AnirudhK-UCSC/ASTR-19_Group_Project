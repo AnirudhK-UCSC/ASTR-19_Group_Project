{
 "cells": [
  {
   "cell_type": "code",
   "execution_count": null,
   "id": "63a05ce8-9a6a-417a-8b1d-1e952f8a4ff5",
   "metadata": {},
   "outputs": [],
   "source": [
    "import numpy as np\n",
    "import matplotlib.pyplot as plt\n",
    "from scipy.optimize import curve_fit"
   ]
  },
  {
   "cell_type": "code",
   "execution_count": null,
   "id": "72d44e2e-5994-4527-a552-8ebf565bf00b",
   "metadata": {},
   "outputs": [],
   "source": [
    "def oscillatory_model(x, a, b, c, d, e, f, g):\n",
    "    return (a * np.sin(b * x + c) + d) * np.sin(e * x + f) + g"
   ]
  },
  {
   "cell_type": "code",
   "execution_count": null,
   "id": "253bf811-a137-4772-9a26-8f140e152ce7",
   "metadata": {},
   "outputs": [],
   "source": [
    "# Fit model to the tidal data\n",
    "popt, pcov = curve_fit(oscillatory_model, x, height, p0=[2.0, 0.5, 0.3, 1.0, 30.0, 1.0, 2.0])\n",
    "fit_params = popt"
   ]
  },
  {
   "cell_type": "code",
   "execution_count": null,
   "id": "e9313938-4ff0-40d9-b1c3-d1c8ca74935a",
   "metadata": {},
   "outputs": [],
   "source": [
    "y_fit = oscillatory_model(np.array(x), *fit_params)"
   ]
  },
  {
   "cell_type": "code",
   "execution_count": null,
   "id": "9d110612-6a76-417f-b87a-2b67138b6c45",
   "metadata": {},
   "outputs": [],
   "source": [
    "plt.figure(figsize=(8, 6))\n",
    "plt.plot(x, height, 'o', label=\"Measured Data\", markersize=4)\n",
    "plt.plot(x, y_fit, '-', label=\"Fitted Model\")\n",
    "plt.xlabel('Time (days)', fontsize=14)\n",
    "plt.ylabel('Tide Height (ft)', fontsize=14)\n",
    "plt.title('Tidal Measurements vs Fitted Model', fontsize=16)\n",
    "plt.legend(fontsize=12)\n",
    "plt.grid()\n",
    "plt.savefig(\"tidal_model_fit.pdf\")\n",
    "plt.show()"
   ]
  },
  {
   "cell_type": "code",
   "execution_count": null,
   "id": "79c0c5f0-02da-4a39-903b-02a7ef36f8d5",
   "metadata": {},
   "outputs": [],
   "source": [
    "residuals = np.array(height) - y_fit\n",
    "residual_std = np.std(residuals)"
   ]
  },
  {
   "cell_type": "code",
   "execution_count": null,
   "id": "b7c4fe6c-b898-493f-9065-322c8e2f31b3",
   "metadata": {},
   "outputs": [],
   "source": [
    "# Residuals plot\n",
    "plt.figure(figsize=(8, 6))\n",
    "plt.plot(x, residuals, 'o', label=\"Residuals\", markersize=4)\n",
    "plt.axhline(0, color='red', linestyle='--', label=\"Zero Line\")\n",
    "plt.xlabel('Time (days)', fontsize=14)\n",
    "plt.ylabel('Residuals (ft)', fontsize=14)\n",
    "plt.title('Residuals of Tidal Measurements', fontsize=16)\n",
    "plt.legend(fontsize=12)\n",
    "plt.grid()\n",
    "plt.savefig(\"tidal_residuals.pdf\")\n",
    "plt.show()"
   ]
  },
  {
   "cell_type": "code",
   "execution_count": null,
   "id": "b429f0ae-ec97-403c-bf05-4b96665e1d9a",
   "metadata": {},
   "outputs": [],
   "source": [
    "# Histogram residuals\n",
    "plt.figure(figsize=(8, 6))\n",
    "plt.hist(residuals, bins=15, alpha=0.7, edgecolor='black', density=True, label=\"Residuals\")\n",
    "plt.xlabel('Residual Value (ft)', fontsize=14)\n",
    "plt.ylabel('Density', fontsize=14)\n",
    "plt.title('Histogram of Residuals', fontsize=16)\n",
    "plt.axvline(0, color='red', linestyle='--', label=\"Mean Residual\")\n",
    "plt.legend(fontsize=12)\n",
    "plt.grid()\n",
    "plt.savefig(\"residual_histogram.pdf\")\n",
    "plt.show()"
   ]
  },
  {
   "cell_type": "code",
   "execution_count": null,
   "id": "70babf5b-4e85-43a8-8f3b-e6cbecca6771",
   "metadata": {},
   "outputs": [],
   "source": [
    "# Add tsunami event to dataset\n",
    "tsunami_height = height[0] + 2.0  # Assume the tsunami increased by 2 ft\n",
    "x_tsunami = [x[0]]  # Using the time of the first high tide\n",
    "height_tsunami = [tsunami_height]\n",
    "height_with_tsunami = np.append(height, height_tsunami)\n",
    "x_with_tsunami = np.append(x, x_tsunami)"
   ]
  },
  {
   "cell_type": "code",
   "execution_count": null,
   "id": "85cb75d0-f193-4703-afd2-3e9c3c329ff5",
   "metadata": {},
   "outputs": [],
   "source": [
    "# Plot histogram with the tsunami outlier\n",
    "plt.figure(figsize=(8, 6))\n",
    "plt.hist(residuals, bins=15, alpha=0.7, edgecolor='black', density=True, label=\"Residuals\")\n",
    "tsunami_residual = tsunami_height - oscillatory_model(x_tsunami, *fit_params)\n",
    "tsunami_std_dev = tsunami_residual / residual_std\n",
    "plt.axvline(tsunami_std_dev, color='purple', linestyle='--', label=\"Tsunami Residual\")\n",
    "plt.xlabel('Residual Value (ft)', fontsize=14)\n",
    "plt.ylabel('Density', fontsize=14)\n",
    "plt.title('Histogram with Tsunami Outlier', fontsize=16)\n",
    "plt.legend(fontsize=12)\n",
    "plt.grid()\n",
    "plt.savefig(\"histogram_with_tsunami.pdf\")\n",
    "plt.show()\n",
    "\n",
    "# Print results\n",
    "print(f\"Standard deviation of residuals: {residual_std:.4f} ft\")\n",
    "print(f\"Tsunami residual in terms of standard deviations: {tsunami_std_dev:.2f}\")"
   ]
  }
 ],
 "metadata": {
  "kernelspec": {
   "display_name": "ASTR 19",
   "language": "python",
   "name": "astr19"
  },
  "language_info": {
   "codemirror_mode": {
    "name": "ipython",
    "version": 3
   },
   "file_extension": ".py",
   "mimetype": "text/x-python",
   "name": "python",
   "nbconvert_exporter": "python",
   "pygments_lexer": "ipython3",
   "version": "3.10.12"
  }
 },
 "nbformat": 4,
 "nbformat_minor": 5
}
