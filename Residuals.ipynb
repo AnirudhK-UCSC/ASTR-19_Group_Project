{
 "cells": [
  {
   "cell_type": "code",
   "execution_count": 1,
   "id": "63a05ce8-9a6a-417a-8b1d-1e952f8a4ff5",
   "metadata": {},
   "outputs": [],
   "source": [
    "import numpy as np\n",
    "import matplotlib.pyplot as plt\n",
    "from scipy.optimize import curve_fit"
   ]
  },
  {
   "cell_type": "code",
   "execution_count": 2,
   "id": "72d44e2e-5994-4527-a552-8ebf565bf00b",
   "metadata": {},
   "outputs": [],
   "source": [
    "def model_fit(x, A, B, C, D, E, F, G):\n",
    "    return (A * np.sin(B * x + C) + D) * np.sin(E * x + F) + G\n",
    "\n",
    "initial_guess = [A_init, B_init, C_init, D_init, E_init, F_init, G_init]\n",
    "\n",
    "# Fit model\n",
    "params, covariance = curve_fit(model_fit, x, height, p0=initial_guess)\n",
    "\n",
    "A_fit, B_fit, C_fit, D_fit, E_fit, F_fit, G_fit = params"
   ]
  },
  {
   "cell_type": "code",
   "execution_count": 3,
   "id": "253bf811-a137-4772-9a26-8f140e152ce7",
   "metadata": {},
   "outputs": [
    {
     "ename": "NameError",
     "evalue": "name 'x' is not defined",
     "output_type": "error",
     "traceback": [
      "\u001b[0;31m---------------------------------------------------------------------------\u001b[0m",
      "\u001b[0;31mNameError\u001b[0m                                 Traceback (most recent call last)",
      "Cell \u001b[0;32mIn[3], line 2\u001b[0m\n\u001b[1;32m      1\u001b[0m \u001b[38;5;66;03m# Fit model to the tidal data\u001b[39;00m\n\u001b[0;32m----> 2\u001b[0m popt, pcov \u001b[38;5;241m=\u001b[39m curve_fit(oscillatory_model, \u001b[43mx\u001b[49m, height, p0\u001b[38;5;241m=\u001b[39m[\u001b[38;5;241m2.0\u001b[39m, \u001b[38;5;241m0.5\u001b[39m, \u001b[38;5;241m0.3\u001b[39m, \u001b[38;5;241m1.0\u001b[39m, \u001b[38;5;241m30.0\u001b[39m, \u001b[38;5;241m1.0\u001b[39m, \u001b[38;5;241m2.0\u001b[39m])\n\u001b[1;32m      3\u001b[0m fit_params \u001b[38;5;241m=\u001b[39m popt\n",
      "\u001b[0;31mNameError\u001b[0m: name 'x' is not defined"
     ]
    }
   ],
   "source": [
    "y_fit = model_fit(x, *params)"
   ]
  },
  {
   "cell_type": "code",
   "execution_count": null,
   "id": "e9313938-4ff0-40d9-b1c3-d1c8ca74935a",
   "metadata": {},
   "outputs": [],
   "source": [
    "residuals = height - y_fit"
   ]
  },
  {
   "cell_type": "code",
   "execution_count": null,
   "id": "9d110612-6a76-417f-b87a-2b67138b6c45",
   "metadata": {},
   "outputs": [],
   "source": [
    "# Plot data and fit\n",
    "plt.figure(figsize=(10, 6))\n",
    "plt.plot(x, height, 'o', label=\"Data\")\n",
    "plt.plot(x, y_fit, '-', label=\"Best Fit\")\n",
    "plt.xlabel('Time (days)')\n",
    "plt.ylabel('Tide Height (ft.)')\n",
    "plt.legend()\n",
    "plt.title('Tidal Data and Fit')\n",
    "plt.savefig(\"fit_plot.pdf\")\n",
    "plt.show()"
   ]
  },
  {
   "cell_type": "code",
   "execution_count": null,
   "id": "79c0c5f0-02da-4a39-903b-02a7ef36f8d5",
   "metadata": {},
   "outputs": [],
   "source": [
    "# Plot residuals\n",
    "plt.figure(figsize=(10, 6))\n",
    "plt.plot(x, residuals, 'o', label=\"Residuals\")\n",
    "plt.axhline(0, color='red', linestyle='--')\n",
    "plt.xlabel('Time (days)')\n",
    "plt.ylabel('Residuals (ft.)')\n",
    "plt.title('Residuals of the Fit')\n",
    "plt.savefig(\"residuals_plot.pdf\")\n",
    "plt.show()"
   ]
  },
  {
   "cell_type": "code",
   "execution_count": null,
   "id": "b7c4fe6c-b898-493f-9065-322c8e2f31b3",
   "metadata": {},
   "outputs": [],
   "source": [
    "# Histogram residuals\n",
    "plt.figure(figsize=(10, 6))\n",
    "plt.hist(residuals, bins=20, alpha=0.7, edgecolor='black')\n",
    "plt.xlabel('Residuals (ft.)')\n",
    "plt.ylabel('Frequency')\n",
    "plt.title('Histogram of Residuals')\n",
    "plt.savefig(\"residuals_histogram.pdf\")\n",
    "plt.show()plt.figure(figsize=(8, 6))\n",
    "plt.plot(x, height, 'o', label=\"Measured Data\", markersize=4)\n",
    "plt.plot(x, y_fit, '-', label=\"Fitted Model\")\n",
    "plt.xlabel('Time (days)', fontsize=14)\n",
    "plt.ylabel('Tide Height (ft)', fontsize=14)\n",
    "plt.title('Tidal Measurements vs Fitted Model', fontsize=16)\n",
    "plt.legend(fontsize=12)\n",
    "plt.grid()\n",
    "plt.savefig(\"tidal_model_fit.pdf\")\n",
    "plt.show()"
   ]
  },
  {
   "cell_type": "code",
   "execution_count": null,
   "id": "b429f0ae-ec97-403c-bf05-4b96665e1d9a",
   "metadata": {},
   "outputs": [],
   "source": [
    "residual_std = np.std(residuals)\n",
    "assumed_error = 0.25\n",
    "intrinsic_scatter = np.sqrt(residual_std**2 - assumed_error**2)\n",
    "\n",
    "print(f\"Residual standard deviation: {residual_std:.3f}\")\n",
    "print(f\"Intrinsic scatter: {intrinsic_scatter:.3f}\")"
   ]
  },
  {
   "cell_type": "code",
   "execution_count": null,
   "id": "70babf5b-4e85-43a8-8f3b-e6cbecca6771",
   "metadata": {},
   "outputs": [],
   "source": [
    "# Add tsunami event to dataset\n",
    "tsunami_height = 2.0\n",
    "tsunami_time = 14  \n",
    "tsunami_x = tsunami_time\n",
    "tsunami_residual = tsunami_height - model_fit(tsunami_x, *params)"
   ]
  },
  {
   "cell_type": "code",
   "execution_count": null,
   "id": "85cb75d0-f193-4703-afd2-3e9c3c329ff5",
   "metadata": {},
   "outputs": [],
   "source": [
    "# Add to residuals\n",
    "residuals_with_outlier = np.append(residuals, tsunami_residual)"
   ]
  },
  {
   "cell_type": "code",
   "execution_count": null,
   "id": "41520a60-cb38-492d-9767-bce56f8bb98f",
   "metadata": {},
   "outputs": [],
   "source": [
    "# Histogram\n",
    "plt.figure(figsize=(10, 6))\n",
    "plt.hist(residuals_with_outlier, bins=20, alpha=0.7, edgecolor='black', label=\"Residuals with Outlier\")\n",
    "plt.xlabel('Residuals (ft.)')\n",
    "plt.ylabel('Frequency')\n",
    "plt.title('Histogram of Residuals with Tsunami Event')\n",
    "plt.legend()\n",
    "plt.savefig(\"updated_residuals_histogram.pdf\")\n",
    "plt.show()\n",
    "\n",
    "# Standard deviations for tsunami\n",
    "tsunami_deviation = tsunami_residual / residual_std\n",
    "print(f\"Tsunami deviation in standard deviations: {tsunami_deviation:.2f}\")"
   ]
  }
 ],
 "metadata": {
  "kernelspec": {
   "display_name": "ASTR 19",
   "language": "python",
   "name": "astr19"
  },
  "language_info": {
   "codemirror_mode": {
    "name": "ipython",
    "version": 3
   },
   "file_extension": ".py",
   "mimetype": "text/x-python",
   "name": "python",
   "nbconvert_exporter": "python",
   "pygments_lexer": "ipython3",
   "version": "3.10.12"
  }
 },
 "nbformat": 4,
 "nbformat_minor": 5
}
